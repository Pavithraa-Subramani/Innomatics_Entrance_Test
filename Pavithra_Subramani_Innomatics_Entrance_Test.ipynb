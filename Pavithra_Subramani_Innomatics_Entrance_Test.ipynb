{
 "cells": [
  {
   "cell_type": "markdown",
   "id": "a25b7ef2",
   "metadata": {},
   "source": [
    "## Name: Pavithra Subramani"
   ]
  },
  {
   "cell_type": "code",
   "execution_count": 16,
   "id": "5679a033",
   "metadata": {},
   "outputs": [
    {
     "name": "stdout",
     "output_type": "stream",
     "text": [
      "(9742, 3)\n"
     ]
    }
   ],
   "source": [
    "import pandas as pd\n",
    "file_path = 'movies.csv'\n",
    "df = pd.read_csv(file_path)\n",
    "print(df.shape)"
   ]
  },
  {
   "cell_type": "code",
   "execution_count": 1,
   "id": "07e007ca",
   "metadata": {},
   "outputs": [
    {
     "name": "stdout",
     "output_type": "stream",
     "text": [
      "(100836, 4)\n"
     ]
    }
   ],
   "source": [
    "import pandas as pd\n",
    "file_path = 'ratings.csv'\n",
    "df = pd.read_csv(file_path)\n",
    "print(df.shape)\n"
   ]
  },
  {
   "cell_type": "code",
   "execution_count": 2,
   "id": "dffc2d92",
   "metadata": {},
   "outputs": [
    {
     "name": "stdout",
     "output_type": "stream",
     "text": [
      "Number of unique userId values: 610\n"
     ]
    }
   ],
   "source": [
    "import pandas as pd\n",
    "file_path = 'ratings.csv'\n",
    "ratings_df = pd.read_csv(file_path)\n",
    "\n",
    "unique_user_ids = ratings_df['userId'].nunique()\n",
    "\n",
    "print(\"Number of unique userId values:\", unique_user_ids)\n"
   ]
  },
  {
   "cell_type": "code",
   "execution_count": 8,
   "id": "92ca8025",
   "metadata": {},
   "outputs": [
    {
     "name": "stdout",
     "output_type": "stream",
     "text": [
      "Movie with the maximum number of user ratings: Forrest Gump (1994)\n"
     ]
    }
   ],
   "source": [
    "import pandas as pd\n",
    "ratings_file_path = 'ratings.csv'\n",
    "movies_file_path = 'movies.csv'\n",
    "\n",
    "ratings_df = pd.read_csv(ratings_file_path)\n",
    "movies_df = pd.read_csv(movies_file_path)\n",
    "\n",
    "merged_df = pd.merge(ratings_df, movies_df, on='movieId')\n",
    "movie_ratings_count = merged_df.groupby('title')['rating'].count()\n",
    "max_rated_movie = movie_ratings_count.idxmax()\n",
    "\n",
    "print(\"Movie with the maximum number of user ratings:\", max_rated_movie)\n"
   ]
  },
  {
   "cell_type": "code",
   "execution_count": 9,
   "id": "e635d820",
   "metadata": {},
   "outputs": [
    {
     "name": "stdout",
     "output_type": "stream",
     "text": [
      "Tags submitted by users for 'Matrix, The (1999)':\n",
      "['martial arts' 'sci-fi' 'alternate universe' 'philosophy'\n",
      " 'post apocalyptic']\n"
     ]
    }
   ],
   "source": [
    "import pandas as pd\n",
    "tags_file_path = 'tags.csv'\n",
    "movies_file_path = 'movies.csv'\n",
    "\n",
    "tags_df = pd.read_csv(tags_file_path)\n",
    "movies_df = pd.read_csv(movies_file_path)\n",
    "\n",
    "\n",
    "matrix_movie = movies_df[movies_df['title'] == 'Matrix, The (1999)']\n",
    "\n",
    "\n",
    "merged_tags_df = pd.merge(tags_df, matrix_movie, on='movieId')\n",
    "\n",
    "\n",
    "selected_tags = merged_tags_df['tag']\n",
    "\n",
    "unique_tags = selected_tags.unique()\n",
    "print(\"Tags submitted by users for 'Matrix, The (1999)':\")\n",
    "print(unique_tags)\n"
   ]
  },
  {
   "cell_type": "code",
   "execution_count": 10,
   "id": "e3d4b691",
   "metadata": {},
   "outputs": [
    {
     "name": "stdout",
     "output_type": "stream",
     "text": [
      "Average user rating for 'Terminator 2: Judgment Day (1991)': 3.970982142857143\n"
     ]
    }
   ],
   "source": [
    "import pandas as pd\n",
    "\n",
    "\n",
    "ratings_file_path = 'ratings.csv'\n",
    "movies_file_path = 'movies.csv'\n",
    "\n",
    "\n",
    "ratings_df = pd.read_csv(ratings_file_path)\n",
    "movies_df = pd.read_csv(movies_file_path)\n",
    "terminator_movie = movies_df[movies_df['title'] == 'Terminator 2: Judgment Day (1991)']\n",
    "\n",
    "merged_df = pd.merge(ratings_df, terminator_movie, on='movieId')\n",
    "\n",
    "\n",
    "average_rating = merged_df['rating'].mean()\n",
    "\n",
    "print(\"Average user rating for 'Terminator 2: Judgment Day (1991)':\", average_rating)\n"
   ]
  },
  {
   "cell_type": "code",
   "execution_count": 11,
   "id": "92e84a85",
   "metadata": {},
   "outputs": [
    {
     "data": {
      "image/png": "[encoded data removed]",
      "text/plain": [
       "<Figure size 640x480 with 1 Axes>"
      ]
     },
     "metadata": {},
     "output_type": "display_data"
    }
   ],
   "source": [
    "import pandas as pd\n",
    "import matplotlib.pyplot as plt\n",
    "\n",
    "ratings_file_path = 'ratings.csv'\n",
    "movies_file_path = 'movies.csv'\n",
    "\n",
    "\n",
    "ratings_df = pd.read_csv(ratings_file_path)\n",
    "movies_df = pd.read_csv(movies_file_path)\n",
    "\n",
    "\n",
    "fight_club_movie = movies_df[movies_df['title'] == 'Fight Club (1999)']\n",
    "\n",
    "merged_df = pd.merge(ratings_df, fight_club_movie, on='movieId')\n",
    "plt.hist(merged_df['rating'], bins=10, edgecolor='black')\n",
    "plt.title('Distribution of User Ratings for Fight Club (1999)')\n",
    "plt.xlabel('Rating')\n",
    "plt.ylabel('Frequency')\n",
    "plt.show()\n"
   ]
  },
  {
   "cell_type": "code",
   "execution_count": 23,
   "id": "8cf44754",
   "metadata": {},
   "outputs": [
    {
     "name": "stdout",
     "output_type": "stream",
     "text": [
      "Most popular movie based on average user ratings (with more than 50 ratings): Shawshank Redemption, The (1994)\n"
     ]
    }
   ],
   "source": [
    "import pandas as pd\n",
    "\n",
    "ratings_file_path = 'ratings.csv'\n",
    "movies_file_path = 'movies.csv'\n",
    "\n",
    "ratings_df = pd.read_csv(ratings_file_path)\n",
    "movies_df = pd.read_csv(movies_file_path)\n",
    "grouped_ratings = ratings_df.groupby('movieId')['rating'].agg(['count', 'mean']).reset_index()\n",
    "merged_df = pd.merge(movies_df, grouped_ratings, on='movieId', how='inner')\n",
    "filtered_movies = merged_df[merged_df['count'] > 50]\n",
    "most_popular_movie = filtered_movies.loc[filtered_movies['mean'].idxmax(), 'title']\n",
    "\n",
    "print(\"Most popular movie based on average user ratings (with more than 50 ratings):\", most_popular_movie)\n"
   ]
  },
  {
   "cell_type": "code",
   "execution_count": 13,
   "id": "59ecfdc8",
   "metadata": {},
   "outputs": [
    {
     "name": "stdout",
     "output_type": "stream",
     "text": [
      "Top 5 popular movies based on the number of user ratings:\n",
      "314                  Forrest Gump (1994)\n",
      "277     Shawshank Redemption, The (1994)\n",
      "257                  Pulp Fiction (1994)\n",
      "510     Silence of the Lambs, The (1991)\n",
      "1938                  Matrix, The (1999)\n",
      "Name: title, dtype: object\n"
     ]
    }
   ],
   "source": [
    "import pandas as pd\n",
    "\n",
    "ratings_file_path = 'ratings.csv'\n",
    "movies_file_path = 'movies.csv'\n",
    "\n",
    "ratings_df = pd.read_csv(ratings_file_path)\n",
    "movies_df = pd.read_csv(movies_file_path)\n",
    "grouped_ratings = ratings_df.groupby('movieId')['rating'].agg(['count', 'mean']).reset_index()\n",
    "merged_df = pd.merge(movies_df, grouped_ratings, on='movieId', how='inner')\n",
    "filtered_movies = merged_df[merged_df['count'] > 50]\n",
    "sorted_movies = filtered_movies.sort_values(by='count', ascending=False)\n",
    "top_5_movies = sorted_movies.head(5)\n",
    "print(\"Top 5 popular movies based on the number of user ratings:\")\n",
    "print(top_5_movies['title'])\n"
   ]
  },
  {
   "cell_type": "code",
   "execution_count": 14,
   "id": "a28d1835",
   "metadata": {},
   "outputs": [
    {
     "name": "stdout",
     "output_type": "stream",
     "text": [
      "Third most popular Sci-Fi movie based on the number of user ratings:\n",
      "Jurassic Park (1993)\n"
     ]
    }
   ],
   "source": [
    "import pandas as pd\n",
    "ratings_file_path = 'ratings.csv'\n",
    "movies_file_path = 'movies.csv'\n",
    "ratings_df = pd.read_csv(ratings_file_path)\n",
    "movies_df = pd.read_csv(movies_file_path)\n",
    "grouped_ratings = ratings_df.groupby('movieId')['rating'].agg(['count', 'mean']).reset_index()\n",
    "merged_df = pd.merge(movies_df, grouped_ratings, on='movieId', how='inner')\n",
    "filtered_movies = merged_df[merged_df['count'] > 50]\n",
    "sci_fi_movies = filtered_movies[filtered_movies['genres'].str.contains('Sci-Fi')]\n",
    "sorted_sci_fi_movies = sci_fi_movies.sort_values(by='count', ascending=False)\n",
    "third_most_popular_sci_fi = sorted_sci_fi_movies.iloc[2]\n",
    "print(\"Third most popular Sci-Fi movie based on the number of user ratings:\")\n",
    "print(third_most_popular_sci_fi['title'])\n"
   ]
  },
  {
   "cell_type": "code",
   "execution_count": 7,
   "id": "ded8dd8b",
   "metadata": {},
   "outputs": [
    {
     "name": "stdout",
     "output_type": "stream",
     "text": [
      "MovieId of the movie with the highest average user rating: 53\n"
     ]
    }
   ],
   "source": [
    "import pandas as pd\n",
    "ratings_file_path = 'ratings.csv'\n",
    "ratings_df = pd.read_csv(ratings_file_path)\n",
    "average_ratings = ratings_df.groupby('movieId')['rating'].mean().reset_index()\n",
    "highest_rated_movie_id = average_ratings.loc[average_ratings['rating'].idxmax(), 'movieId']\n",
    "\n",
    "print(\"MovieId of the movie with the highest average user rating:\", highest_rated_movie_id)\n"
   ]
  },
  {
   "cell_type": "code",
   "execution_count": 27,
   "id": "4622107f",
   "metadata": {},
   "outputs": [
    {
     "name": "stdout",
     "output_type": "stream",
     "text": [
      "MovieId of the Sci-Fi movie with the highest average user rating (IMDb): 3687\n"
     ]
    }
   ],
   "source": [
    "import pandas as pd\n",
    "movies_file_path = 'movies.csv'\n",
    "ratings_file_path = 'ratings.csv'\n",
    "movies_df = pd.read_csv(movies_file_path)\n",
    "ratings_df = pd.read_csv(ratings_file_path)\n",
    "grouped_ratings = ratings_df.groupby('movieId')['rating'].agg(['count', 'mean']).reset_index()\n",
    "merged_df = pd.merge(movies_df, grouped_ratings, on='movieId', how='inner')\n",
    "sci_fi_movies = merged_df[merged_df['genres'].str.contains('Sci-Fi')]\n",
    "highest_rated_sci_fi_movie = sci_fi_movies.loc[sci_fi_movies['mean'].idxmax(), 'movieId']\n",
    "print(\"MovieId of the Sci-Fi movie with the highest average user rating (IMDb):\", highest_rated_sci_fi_movie)\n"
   ]
  },
  {
   "cell_type": "code",
   "execution_count": null,
   "id": "5d549035",
   "metadata": {},
   "outputs": [],
   "source": []
  }
 ],
 "metadata": {
  "kernelspec": {
   "display_name": "Python 3 (ipykernel)",
   "language": "python",
   "name": "python3"
  },
  "language_info": {
   "codemirror_mode": {
    "name": "ipython",
    "version": 3
   },
   "file_extension": ".py",
   "mimetype": "text/x-python",
   "name": "python",
   "nbconvert_exporter": "python",
   "pygments_lexer": "ipython3",
   "version": "3.11.3"
  }
 },
 "nbformat": 4,
 "nbformat_minor": 5
}
